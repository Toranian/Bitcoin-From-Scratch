{
 "cells": [
  {
   "cell_type": "markdown",
   "id": "8744ae81",
   "metadata": {},
   "source": [
    "# Field Elements\n",
    "\n",
    "We first check that num is between 0 and prime-1 inclusive. If not, we get an invalid FieldElement and we raise a ValueError, which is what we should raise when we get an inappropriate value.\n",
    "\n",
    "The rest of the __init__ method assigns the initialization values to the object.\n",
    "\n",
    "The __eq__ method checks if two objects of class FieldElement are equal. This is only true when the num and prime properties are equal."
   ]
  },
  {
   "cell_type": "code",
   "execution_count": 5,
   "id": "52fd7e17",
   "metadata": {},
   "outputs": [
    {
     "name": "stdout",
     "output_type": "stream",
     "text": [
      "FieldElement_self.num=7self.prime=13\n",
      "FieldElement_self.num=6self.prime=13\n",
      "False\n",
      "False\n",
      "True\n"
     ]
    }
   ],
   "source": [
    "class FieldElement:\n",
    "    \"\"\"A class to nicely handle finite fields.\"\"\"\\\n",
    "    \n",
    "    def __init__(self, num, prime):\n",
    "        \n",
    "        if num >= prime or num <0:\n",
    "            error = f\"Num {num} not in field range 0 {prime-1}\"\n",
    "            raise ValueError(error)\n",
    "        \n",
    "        self.num = num\n",
    "        self.prime = prime\n",
    "        \n",
    "    def __repr__(self):\n",
    "        return f\"FieldElement_{self.num=}{self.prime=}\"\n",
    "    \n",
    "    def __eq__(self, other: FieldElement):\n",
    "        if other is None:\n",
    "            return False\n",
    "        \n",
    "        return self.num == other.num and self.prime == other.prime\n",
    "\n",
    "\n",
    "a = FieldElement(7, 13)\n",
    "b = FieldElement(6, 13)\n",
    "print(a)\n",
    "print(b)\n",
    "print(a == b)\n",
    "print(b == a)\n",
    "print(a == a)"
   ]
  },
  {
   "cell_type": "markdown",
   "id": "f3f580cd",
   "metadata": {},
   "source": [
    "# Finite Field Addition and Subtraction\n",
    "Using the modulo operator, we can determine if two elements have their sum in a finite set using this proof:\n",
    "\n",
    "$$ a, b \\in F_p$$ \n",
    "where *p* is the length of the finite set.\n",
    "The finite set can be described as:\n",
    "$$ p = \\{1, 2, ..., p-2, p-1\\} $$\n",
    "$$ a + _{f}b \\in F_p$$\n",
    "\n",
    "Where *a* and *b* are elements of the finite set *F* of size *p*\n",
    "\n",
    "Examples:\n",
    "$$7+f8 = (7+8)\\%19 = 15$$\n",
    "$$11+f17 = (11+17)\\%19 = 9$$"
   ]
  },
  {
   "cell_type": "markdown",
   "id": "30306977",
   "metadata": {},
   "source": [
    "# We can now add addition and subtraction to the field element class"
   ]
  },
  {
   "cell_type": "code",
   "execution_count": 6,
   "id": "22b9c6b3",
   "metadata": {},
   "outputs": [],
   "source": [
    "class FieldElement:\n",
    "    \"\"\"A class to nicely handle finite fields.\"\"\"\n",
    "    \n",
    "    def __init__(self, num, prime):\n",
    "        \n",
    "        if num >= prime or num <0:\n",
    "            error = f\"Num {num} not in field range 0 {prime-1}\"\n",
    "            raise ValueError(error)\n",
    "        \n",
    "        self.num = num\n",
    "        self.prime = prime\n",
    "        \n",
    "    def __repr__(self):\n",
    "        return f\"FieldElement_{self.num=}{self.prime=}\"\n",
    "    \n",
    "    def __eq__(self, other: FieldElement):\n",
    "        if other is None:\n",
    "            return False\n",
    "        \n",
    "        return self.num == other.num and self.prime == other.prime\n",
    "    \n",
    "    def __add__(self, other):\n",
    "        # Have to make sure the elements are from the same field\n",
    "        if self.prime != other.prime: \n",
    "            raise TypeError('Cannot add two numbers in different fields.')\n",
    "        \n",
    "        # Wrap the result back around\n",
    "        num = (self.num + other.num) % self.prime\n",
    "        \n",
    "        # Return a new instance of this class with the \n",
    "        return self.__class__(num, self.prime)\n",
    "    \n",
    "    def __sub__(self, other):\n",
    "        \n",
    "        "
   ]
  },
  {
   "cell_type": "code",
   "execution_count": null,
   "id": "db875404",
   "metadata": {},
   "outputs": [],
   "source": [
    "# "
   ]
  }
 ],
 "metadata": {
  "kernelspec": {
   "display_name": "Python 3 (ipykernel)",
   "language": "python",
   "name": "python3"
  },
  "language_info": {
   "codemirror_mode": {
    "name": "ipython",
    "version": 3
   },
   "file_extension": ".py",
   "mimetype": "text/x-python",
   "name": "python",
   "nbconvert_exporter": "python",
   "pygments_lexer": "ipython3",
   "version": "3.8.6"
  }
 },
 "nbformat": 4,
 "nbformat_minor": 5
}
